{
 "cells": [
  {
   "cell_type": "markdown",
   "metadata": {},
   "source": [
    "# Setting"
   ]
  },
  {
   "cell_type": "code",
   "execution_count": null,
   "metadata": {},
   "outputs": [],
   "source": [
    "import os\n",
    "\n",
    "import numpy as np\n",
    "import pandas as pd\n",
    "\n",
    "from bionlp.util import fs, io, func\n",
    "\n",
    "\n",
    "EVNT_ARG_TYPE = {'2016':{'Lives_In':['Bacteria', 'Location']}, '2013':{'Localization':['Bacterium', 'Localization'], 'PartOf':['Host', 'Part']}, '2011':{'RegulonDependence':['Regulon', 'Target'], 'BindTo':['Agent', 'Target'], 'TranscriptionFrom':['Transcription', 'Site'], 'RegulonMember':['Regulon', 'Member'], 'SiteOf':['Site', 'Entity'], 'TranscriptionBy':['Transcription', 'Agent'], 'PromoterOf':['Promoter', 'Gene'], 'PromoterDependence':['Promoter', 'Protein'], 'ActionTarget':['Action', 'Target'], 'Interaction':['Agent', 'Target']}}\n",
    "FIX_EVNT_ARG_TYPE = {'2016':{'Lives_In':['Bacteria', 'Location']}, '2013':{'Localization':['Bacterium', 'Localization'], 'PartOf':['Host', 'Part']}, '2011':{'RegulonDependence':['Agent', 'Target'], 'BindTo':['Agent', 'Target'], 'TranscriptionFrom':['Process', 'Promoter'], 'RegulonMember':['Regulon', 'Member'], 'SiteOf':['Target', 'Site'], 'TranscriptionBy':['Transcription', 'Polymerase'], 'PromoterOf':['Agent', 'Target'], 'PromoterDependence':['Agent', 'Target'], 'ActionTarget':['Action', 'Target'], 'Interaction':['Agent', 'Target']}}\n",
    "\n",
    "YEAR='2013'\n",
    "TASK='bb'\n",
    "DATA_PATH = '../../data/bioevent/bnlpst/%s/%s' % (YEAR, TASK)\n",
    "TEST_DIR = os.path.join(DATA_PATH, 'dev')\n",
    "PRED_DIR = os.path.join(DATA_PATH, 'pred')\n",
    "FIX_PRED_DIR = os.path.join(DATA_PATH, 'pred.fix')\n",
    "STAT_OA_FNAME = 'train_stat_oprnd_annot.pkl'"
   ]
  },
  {
   "cell_type": "code",
   "execution_count": null,
   "metadata": {},
   "outputs": [],
   "source": [
    "stat_oprnd_annot = io.read_obj(os.path.join(DATA_PATH, STAT_OA_FNAME))"
   ]
  },
  {
   "cell_type": "code",
   "execution_count": null,
   "metadata": {},
   "outputs": [],
   "source": [
    "stat_oprnd_annot"
   ]
  },
  {
   "cell_type": "code",
   "execution_count": null,
   "metadata": {},
   "outputs": [],
   "source": [
    "fs.mkdir(FIX_PRED_DIR)\n",
    "for fname in fs.listf(PRED_DIR, pattern='.*\\.a2'):\n",
    "    ref_lines = [l for l in fs.read_file(os.path.join(TEST_DIR, fname.replace('a2', 'a1'))) if l.startswith('T')]\n",
    "    refs = {}\n",
    "    for ref_line in ref_lines:\n",
    "        ref_id, ref_data = ref_line.split('\\t')[:2]\n",
    "        refs[ref_id] = ref_data.split(' ')[0]\n",
    "\n",
    "    new_idx, fix_lines = 1, []\n",
    "    lines = fs.read_file(os.path.join(PRED_DIR, fname))\n",
    "    for line in lines:\n",
    "        ldata = line.split('\\t')\n",
    "        evnt_id = ldata[0]\n",
    "        evnt_data = ldata[1].split(' ')\n",
    "        evnt_type = evnt_data[0]\n",
    "        orig_argtype = EVNT_ARG_TYPE[YEAR][evnt_type]\n",
    "        fix_argtype = FIX_EVNT_ARG_TYPE[YEAR][evnt_type]\n",
    "        for oat, fat, arg_idx in zip(orig_argtype, fix_argtype, range(1, len(evnt_data))):\n",
    "            if (not stat_oprnd_annot[evnt_type][arg_idx - 1].has_key(refs[evnt_data[arg_idx].split(':')[1].strip()])): break\n",
    "            evnt_data[arg_idx] = evnt_data[arg_idx].replace(oat, fat)\n",
    "        else:\n",
    "            fix_lines.append('E%i\\t%s' % (new_idx, ' '.join(evnt_data)))\n",
    "            new_idx += 1\n",
    "    fs.write_file(''.join(fix_lines), os.path.join(FIX_PRED_DIR, fname))"
   ]
  }
 ],
 "metadata": {
  "kernelspec": {
   "display_name": "Python 2",
   "language": "python",
   "name": "python2"
  },
  "language_info": {
   "codemirror_mode": {
    "name": "ipython",
    "version": 2
   },
   "file_extension": ".py",
   "mimetype": "text/x-python",
   "name": "python",
   "nbconvert_exporter": "python",
   "pygments_lexer": "ipython2",
   "version": "2.7.13"
  }
 },
 "nbformat": 4,
 "nbformat_minor": 2
}
