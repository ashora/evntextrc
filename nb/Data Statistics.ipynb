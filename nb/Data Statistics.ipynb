{
 "cells": [
  {
   "cell_type": "code",
   "execution_count": 1,
   "metadata": {},
   "outputs": [],
   "source": [
    "import os\n",
    "\n",
    "import numpy as np\n",
    "import pandas as pd\n",
    "\n",
    "from bionlp.util import fs, io, func\n",
    "\n",
    "\n",
    "DATA_PATH = '../../data/bioevent/bnlpst/2011/bgi'"
   ]
  },
  {
   "cell_type": "code",
   "execution_count": 2,
   "metadata": {},
   "outputs": [],
   "source": [
    "# train_Xs = [pd.read_hdf(os.path.join(DATA_PATH, 'dataset.h5'), 'cbow/train_X%i'%i) for i in range(4)]\n",
    "# dev_Xs = [pd.read_hdf(os.path.join(DATA_PATH, 'dataset.h5'), 'cbow/dev_X%i'%i) for i in range(4)]\n",
    "# test_Xs = [pd.read_hdf(os.path.join(DATA_PATH, 'dataset.h5'), 'cbow/test_X%i'%i) for i in range(4)]"
   ]
  },
  {
   "cell_type": "code",
   "execution_count": 3,
   "metadata": {},
   "outputs": [],
   "source": [
    "train_Y = pd.read_hdf(os.path.join(DATA_PATH, 'dataset.h5'), 'cbow/train_Y')\n",
    "dev_Y = pd.read_hdf(os.path.join(DATA_PATH, 'dataset.h5'), 'cbow/dev_Y')"
   ]
  },
  {
   "cell_type": "code",
   "execution_count": 4,
   "metadata": {
    "scrolled": true
   },
   "outputs": [
    {
     "data": {
      "text/plain": [
       "ActionTarget:Action:Target              108.0\n",
       "BindTo:Agent:Target                      35.0\n",
       "Interaction:Agent:Target                126.0\n",
       "PromoterDependence:Promoter:Protein      32.0\n",
       "PromoterOf:Promoter:Gene                 36.0\n",
       "RegulonDependence:Regulon:Target         11.0\n",
       "RegulonMember:Regulon:Member             15.0\n",
       "SiteOf:Site:Entity                       17.0\n",
       "TranscriptionBy:Transcription:Agent      25.0\n",
       "TranscriptionFrom:Transcription:Site     14.0\n",
       "dtype: float64"
      ]
     },
     "execution_count": 4,
     "metadata": {},
     "output_type": "execute_result"
    }
   ],
   "source": [
    "train_Y.replace({-1:np.nan}).dropna().reset_index().drop_duplicates(subset='index').set_index('index').sum(axis=0)"
   ]
  },
  {
   "cell_type": "code",
   "execution_count": 5,
   "metadata": {},
   "outputs": [
    {
     "data": {
      "text/plain": [
       "ActionTarget:Action:Target             18.0\n",
       "Interaction:Agent:Target               18.0\n",
       "TranscriptionBy:Transcription:Agent     3.0\n",
       "dtype: float64"
      ]
     },
     "execution_count": 5,
     "metadata": {},
     "output_type": "execute_result"
    }
   ],
   "source": [
    "dev_Y.replace({-1:np.nan}).dropna().reset_index().drop_duplicates(subset='index').set_index('index').sum(axis=0)"
   ]
  },
  {
   "cell_type": "code",
   "execution_count": 6,
   "metadata": {},
   "outputs": [],
   "source": [
    "train_ent_Y = pd.read_hdf(os.path.join(DATA_PATH, 'dataset.h5'), 'cbow/train_ent_Y')\n",
    "dev_ent_Y = pd.read_hdf(os.path.join(DATA_PATH, 'dataset.h5'), 'cbow/dev_ent_Y')"
   ]
  },
  {
   "cell_type": "code",
   "execution_count": 7,
   "metadata": {
    "scrolled": true
   },
   "outputs": [
    {
     "data": {
      "text/plain": [
       "Action            92\n",
       "Agent            125\n",
       "Entity            15\n",
       "Gene              36\n",
       "Member            15\n",
       "Promoter          38\n",
       "Protein           29\n",
       "Regulon           10\n",
       "Site              29\n",
       "Target           185\n",
       "Transcription     31\n",
       "dtype: int64"
      ]
     },
     "execution_count": 7,
     "metadata": {},
     "output_type": "execute_result"
    }
   ],
   "source": [
    "train_ent_Y.replace({-1:np.nan}).dropna().reset_index().drop_duplicates(subset='index').set_index('index').sum(axis=0)"
   ]
  },
  {
   "cell_type": "code",
   "execution_count": 8,
   "metadata": {},
   "outputs": [
    {
     "data": {
      "text/plain": [
       "Action           16\n",
       "Agent            15\n",
       "Target           21\n",
       "Transcription     3\n",
       "dtype: int64"
      ]
     },
     "execution_count": 8,
     "metadata": {},
     "output_type": "execute_result"
    }
   ],
   "source": [
    "dev_ent_Y.replace({-1:np.nan}).dropna().reset_index().drop_duplicates(subset='index').set_index('index').sum(axis=0)"
   ]
  }
 ],
 "metadata": {
  "kernelspec": {
   "display_name": "Python 2",
   "language": "python",
   "name": "python2"
  },
  "language_info": {
   "codemirror_mode": {
    "name": "ipython",
    "version": 2
   },
   "file_extension": ".py",
   "mimetype": "text/x-python",
   "name": "python",
   "nbconvert_exporter": "python",
   "pygments_lexer": "ipython2",
   "version": "2.7.13"
  }
 },
 "nbformat": 4,
 "nbformat_minor": 2
}
